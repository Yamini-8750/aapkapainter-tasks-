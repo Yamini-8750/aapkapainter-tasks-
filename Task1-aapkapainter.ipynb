{
 "cells": [
  {
   "cell_type": "markdown",
   "metadata": {},
   "source": [
    "## QWrite a code that prints out the first occurrence of a duplicate in a given array of integers Sample Input: [1,2,3,2,1]"
   ]
  },
  {
   "cell_type": "code",
   "execution_count": 9,
   "metadata": {},
   "outputs": [
    {
     "name": "stdout",
     "output_type": "stream",
     "text": [
      "2\n"
     ]
    }
   ],
   "source": [
    "def print_first_repeat(num):\n",
    "    arr_set = set()\n",
    "    duplicate = -1\n",
    "\n",
    "    for i in range(len(num)):\n",
    "\n",
    "        if num[i] in arr_set:\n",
    "            return num[i]\n",
    "        else:\n",
    "            arr_set.add(num[i])\n",
    "\n",
    "    return duplicate\n",
    "\n",
    "print(print_first_repeat([1,2,3,2,1]))\n"
   ]
  },
  {
   "cell_type": "code",
   "execution_count": null,
   "metadata": {},
   "outputs": [],
   "source": []
  },
  {
   "cell_type": "code",
   "execution_count": null,
   "metadata": {},
   "outputs": [],
   "source": []
  }
 ],
 "metadata": {
  "kernelspec": {
   "display_name": "Python 3",
   "language": "python",
   "name": "python3"
  },
  "language_info": {
   "codemirror_mode": {
    "name": "ipython",
    "version": 3
   },
   "file_extension": ".py",
   "mimetype": "text/x-python",
   "name": "python",
   "nbconvert_exporter": "python",
   "pygments_lexer": "ipython3",
   "version": "3.8.10"
  }
 },
 "nbformat": 4,
 "nbformat_minor": 4
}
