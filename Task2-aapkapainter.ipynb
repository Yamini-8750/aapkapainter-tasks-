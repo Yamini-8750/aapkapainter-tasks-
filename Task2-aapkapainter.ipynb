{
 "cells": [
  {
   "cell_type": "code",
   "execution_count": 8,
   "metadata": {},
   "outputs": [
    {
     "name": "stdout",
     "output_type": "stream",
     "text": [
      "The strings are anagrams.\n"
     ]
    }
   ],
   "source": [
    "def check_anagram(str1, str2):\n",
    "\n",
    "    if(sorted(str1.lower())== sorted(str2.lower())):\n",
    "        \n",
    "        print(\"The strings are anagrams.\")\n",
    "        \n",
    "    else:\n",
    "        print(\"The strings aren't anagrams.\")\n",
    "\n",
    "str1 =\"Mary\"\n",
    "str2 =\"Army\"\n",
    "check_anagram(str1, str2)\n"
   ]
  },
  {
   "cell_type": "code",
   "execution_count": null,
   "metadata": {},
   "outputs": [],
   "source": []
  }
 ],
 "metadata": {
  "kernelspec": {
   "display_name": "Python 3",
   "language": "python",
   "name": "python3"
  },
  "language_info": {
   "codemirror_mode": {
    "name": "ipython",
    "version": 3
   },
   "file_extension": ".py",
   "mimetype": "text/x-python",
   "name": "python",
   "nbconvert_exporter": "python",
   "pygments_lexer": "ipython3",
   "version": "3.8.10"
  }
 },
 "nbformat": 4,
 "nbformat_minor": 4
}
